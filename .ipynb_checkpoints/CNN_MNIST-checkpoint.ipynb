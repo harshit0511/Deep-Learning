{
 "cells": [
  {
   "cell_type": "code",
   "execution_count": 1,
   "metadata": {
    "colab": {
     "base_uri": "https://localhost:8080/",
     "height": 538
    },
    "colab_type": "code",
    "id": "4vSQMBX1BeUg",
    "outputId": "1f0d820a-4e76-4882-c312-3d9e9835a727"
   },
   "outputs": [
    {
     "name": "stderr",
     "output_type": "stream",
     "text": [
      "/Users/harshitsrivastava/anaconda3/lib/python3.6/site-packages/h5py/__init__.py:36: FutureWarning: Conversion of the second argument of issubdtype from `float` to `np.floating` is deprecated. In future, it will be treated as `np.float64 == np.dtype(float).type`.\n",
      "  from ._conv import register_converters as _register_converters\n"
     ]
    }
   ],
   "source": [
    "import numpy as np\n",
    "from __future__ import print_function\n",
    "\n",
    "import tensorflow as tf\n",
    "import matplotlib.pyplot as plt\n",
    "%matplotlib inline\n",
    "#tf.enable_eager_execution()"
   ]
  },
  {
   "cell_type": "code",
   "execution_count": 2,
   "metadata": {},
   "outputs": [
    {
     "name": "stdout",
     "output_type": "stream",
     "text": [
      "WARNING:tensorflow:From /Users/harshitsrivastava/anaconda3/lib/python3.6/site-packages/tensorflow/contrib/learn/python/learn/datasets/base.py:198: retry (from tensorflow.contrib.learn.python.learn.datasets.base) is deprecated and will be removed in a future version.\n",
      "Instructions for updating:\n",
      "Use the retry module or similar alternatives.\n",
      "WARNING:tensorflow:From <ipython-input-2-2f44eee0991e>:3: read_data_sets (from tensorflow.contrib.learn.python.learn.datasets.mnist) is deprecated and will be removed in a future version.\n",
      "Instructions for updating:\n",
      "Please use alternatives such as official/mnist/dataset.py from tensorflow/models.\n",
      "WARNING:tensorflow:From /Users/harshitsrivastava/anaconda3/lib/python3.6/site-packages/tensorflow/contrib/learn/python/learn/datasets/mnist.py:260: maybe_download (from tensorflow.contrib.learn.python.learn.datasets.base) is deprecated and will be removed in a future version.\n",
      "Instructions for updating:\n",
      "Please write your own downloading logic.\n",
      "WARNING:tensorflow:From /Users/harshitsrivastava/anaconda3/lib/python3.6/site-packages/tensorflow/contrib/learn/python/learn/datasets/mnist.py:262: extract_images (from tensorflow.contrib.learn.python.learn.datasets.mnist) is deprecated and will be removed in a future version.\n",
      "Instructions for updating:\n",
      "Please use tf.data to implement this functionality.\n",
      "Extracting /tmp/data/train-images-idx3-ubyte.gz\n",
      "WARNING:tensorflow:From /Users/harshitsrivastava/anaconda3/lib/python3.6/site-packages/tensorflow/contrib/learn/python/learn/datasets/mnist.py:267: extract_labels (from tensorflow.contrib.learn.python.learn.datasets.mnist) is deprecated and will be removed in a future version.\n",
      "Instructions for updating:\n",
      "Please use tf.data to implement this functionality.\n",
      "Extracting /tmp/data/train-labels-idx1-ubyte.gz\n",
      "WARNING:tensorflow:From /Users/harshitsrivastava/anaconda3/lib/python3.6/site-packages/tensorflow/contrib/learn/python/learn/datasets/mnist.py:110: dense_to_one_hot (from tensorflow.contrib.learn.python.learn.datasets.mnist) is deprecated and will be removed in a future version.\n",
      "Instructions for updating:\n",
      "Please use tf.one_hot on tensors.\n",
      "Extracting /tmp/data/t10k-images-idx3-ubyte.gz\n",
      "Extracting /tmp/data/t10k-labels-idx1-ubyte.gz\n",
      "WARNING:tensorflow:From /Users/harshitsrivastava/anaconda3/lib/python3.6/site-packages/tensorflow/contrib/learn/python/learn/datasets/mnist.py:290: DataSet.__init__ (from tensorflow.contrib.learn.python.learn.datasets.mnist) is deprecated and will be removed in a future version.\n",
      "Instructions for updating:\n",
      "Please use alternatives such as official/mnist/dataset.py from tensorflow/models.\n"
     ]
    }
   ],
   "source": [
    "# Import MNIST data\n",
    "from tensorflow.examples.tutorials.mnist import input_data\n",
    "mnist = input_data.read_data_sets(\"/tmp/data/\", one_hot=True)"
   ]
  },
  {
   "cell_type": "markdown",
   "metadata": {},
   "source": [
    "# Computational graphs"
   ]
  },
  {
   "cell_type": "code",
   "execution_count": 3,
   "metadata": {
    "colab": {},
    "colab_type": "code",
    "id": "kj1U2tbhBeUm"
   },
   "outputs": [],
   "source": [
    "# Training Parameters\n",
    "learning_rate = 0.001\n",
    "num_steps = 5000\n",
    "batch_size = 128\n",
    "display_step = 50\n",
    "\n",
    "# Network Parameters\n",
    "num_input = 784 # MNIST data input (img shape: 28*28)\n",
    "num_classes = 10 # MNIST total classes (0-9 digits)\n",
    "dropout = 0.75 # Dropout, probability to keep units\n",
    "\n",
    "# tf Graph input\n",
    "X = tf.placeholder(tf.float32, [None, num_input])\n",
    "Y = tf.placeholder(tf.float32, [None, num_classes])\n",
    "keep_prob = tf.placeholder(tf.float32) # dropout (keep probability"
   ]
  },
  {
   "cell_type": "markdown",
   "metadata": {
    "colab_type": "text",
    "id": "vDsg_-BzBeUo"
   },
   "source": [
    "## CNN block"
   ]
  },
  {
   "cell_type": "code",
   "execution_count": 4,
   "metadata": {
    "colab": {},
    "colab_type": "code",
    "id": "w5WV-NAjBeUq"
   },
   "outputs": [],
   "source": [
    "def conv2d(x, W, b, strides=1):\n",
    "    x = tf.nn.conv2d(x, W, strides=[1, strides, strides, 1], padding='SAME')\n",
    "    x = tf.nn.bias_add(x, b)\n",
    "    return tf.nn.relu(x)\n",
    "\n",
    "def maxpool2d(x, k=2):\n",
    "    return tf.nn.max_pool(x, ksize=[1, k, k, 1], strides=[1, k, k, 1],\n",
    "                         padding='SAME')\n",
    "\n",
    "def conv_net(x, weights, biases, dropout):\n",
    "    x = tf.reshape(x, shape=[-1, 28, 28, 1])\n",
    "    \n",
    "    conv1 = conv2d(x, weights['wc1'], biases['bc1'])\n",
    "    conv1 = maxpool2d(conv1, k=2)\n",
    "    \n",
    "    conv2 = conv2d(conv1, weights['wc2'], biases['bc2'])\n",
    "    conv2 = maxpool2d(conv2, k=2)\n",
    "    \n",
    "    fc1 = tf.reshape(conv2, [-1, weights['wd1'].get_shape().as_list()[0]])\n",
    "    fc1 = tf.add(tf.matmul(fc1, weights['wd1']), biases['bd1'])\n",
    "    fc1 = tf.nn.relu(fc1)\n",
    "    # dropout\n",
    "    fc1 = tf.nn.dropout(fc1, dropout)\n",
    "    \n",
    "    \n",
    "    # Output class prediction\n",
    "    out = tf.add(tf.matmul(fc1, weights['out']), biases['out'])\n",
    "    return out"
   ]
  },
  {
   "cell_type": "code",
   "execution_count": 5,
   "metadata": {
    "colab": {},
    "colab_type": "code",
    "id": "JbRh_GJPBeUs"
   },
   "outputs": [],
   "source": [
    "weights = {\n",
    "    # 5x5 conv, 1 input, 32 outputs\n",
    "    'wc1': tf.Variable(tf.random_normal([5, 5, 1, 32])),\n",
    "    # 5x5 conv, 32 inputs, 64 outputs\n",
    "    'wc2': tf.Variable(tf.random_normal([5, 5, 32, 64])),\n",
    "    # fully connected, 7*7*64 inputs, 1024 outputs\n",
    "    'wd1': tf.Variable(tf.random_normal([7*7*64, 1024])),\n",
    "    # 1024 inputs, 10 outputs (class prediction)\n",
    "    'out': tf.Variable(tf.random_normal([1024, num_classes]))\n",
    "}\n",
    "\n",
    "biases = {\n",
    "    'bc1': tf.Variable(tf.random_normal([32])),\n",
    "    'bc2': tf.Variable(tf.random_normal([64])),\n",
    "    'bd1': tf.Variable(tf.random_normal([1024])),\n",
    "    'out': tf.Variable(tf.random_normal([num_classes]))\n",
    "}"
   ]
  },
  {
   "cell_type": "code",
   "execution_count": 6,
   "metadata": {
    "colab": {
     "base_uri": "https://localhost:8080/",
     "height": 175
    },
    "colab_type": "code",
    "id": "4kjVvIgvBeUv",
    "outputId": "fb3079c6-9431-4fa1-e364-46fcf9f64517"
   },
   "outputs": [
    {
     "name": "stdout",
     "output_type": "stream",
     "text": [
      "WARNING:tensorflow:From <ipython-input-6-cf13265ba21d>:4: softmax_cross_entropy_with_logits (from tensorflow.python.ops.nn_ops) is deprecated and will be removed in a future version.\n",
      "Instructions for updating:\n",
      "\n",
      "Future major versions of TensorFlow will allow gradients to flow\n",
      "into the labels input on backprop by default.\n",
      "\n",
      "See tf.nn.softmax_cross_entropy_with_logits_v2.\n",
      "\n"
     ]
    }
   ],
   "source": [
    "logits = conv_net(X, weights, biases, keep_prob)\n",
    "prediction = tf.nn.softmax(logits)\n",
    "# loss\n",
    "loss_op = tf.reduce_mean(tf.nn.softmax_cross_entropy_with_logits(logits = logits, labels = Y))\n",
    "optimizer = tf.train.AdamOptimizer(learning_rate=learning_rate)\n",
    "train_op = optimizer.minimize(loss_op)\n",
    "\n",
    "# Evaluate\n",
    "correct_pred = tf.equal(tf.argmax(prediction, 1), tf.argmax(Y, 1))\n",
    "accuracy = tf.reduce_mean(tf.cast(correct_pred, tf.float32))\n",
    "\n",
    "init = tf.global_variables_initializer()"
   ]
  },
  {
   "cell_type": "code",
   "execution_count": 7,
   "metadata": {
    "colab": {},
    "colab_type": "code",
    "id": "OGJVWLMWBeUz"
   },
   "outputs": [],
   "source": [
    "def get_batch(start, end):\n",
    "    x = mnist.train.images[start:end]\n",
    "    y = mnist.train.labels[start:end]\n",
    "    return x, y"
   ]
  },
  {
   "cell_type": "code",
   "execution_count": 7,
   "metadata": {
    "colab": {
     "base_uri": "https://localhost:8080/",
     "height": 3541
    },
    "colab_type": "code",
    "id": "LDP7TMzrBeU4",
    "outputId": "04f5d586-a699-4ab9-a277-2bb0ccfefb96"
   },
   "outputs": [
    {
     "name": "stdout",
     "output_type": "stream",
     "text": [
      "Step: 0 Loss: 49007.617 Accuracy: 0.1328125\n",
      "Test Accuracy: 0.15039062\n",
      "Step: 1 Loss: 36173.465 Accuracy: 0.1875\n",
      "Test Accuracy: 0.14257812\n",
      "Step: 50 Loss: 2555.1353 Accuracy: 0.828125\n",
      "Test Accuracy: 0.7832031\n",
      "Step: 100 Loss: 1891.1543 Accuracy: 0.84375\n",
      "Test Accuracy: 0.875\n",
      "Step: 150 Loss: 2299.4568 Accuracy: 0.875\n",
      "Test Accuracy: 0.8964844\n",
      "Step: 200 Loss: 1550.4369 Accuracy: 0.9140625\n",
      "Test Accuracy: 0.91796875\n",
      "Step: 250 Loss: 1470.3964 Accuracy: 0.9375\n",
      "Test Accuracy: 0.9355469\n",
      "Step: 300 Loss: 333.80817 Accuracy: 0.9453125\n",
      "Test Accuracy: 0.9277344\n",
      "Step: 350 Loss: 1808.4838 Accuracy: 0.890625\n",
      "Test Accuracy: 0.94921875\n",
      "Step: 400 Loss: 666.30853 Accuracy: 0.9453125\n",
      "Test Accuracy: 0.94140625\n",
      "Step: 450 Loss: 729.67725 Accuracy: 0.9296875\n",
      "Test Accuracy: 0.9472656\n",
      "Step: 500 Loss: 697.25165 Accuracy: 0.9453125\n",
      "Test Accuracy: 0.9511719\n",
      "Step: 550 Loss: 163.34987 Accuracy: 0.9921875\n",
      "Test Accuracy: 0.9511719\n",
      "Step: 600 Loss: 0.0 Accuracy: 1.0\n",
      "Test Accuracy: 0.953125\n",
      "Step: 650 Loss: 455.95764 Accuracy: 0.953125\n",
      "Test Accuracy: 0.95703125\n",
      "Step: 700 Loss: 262.3412 Accuracy: 0.96875\n",
      "Test Accuracy: 0.9628906\n",
      "Step: 750 Loss: 421.51837 Accuracy: 0.9609375\n",
      "Test Accuracy: 0.9628906\n",
      "Step: 800 Loss: 28.870253 Accuracy: 0.9921875\n",
      "Test Accuracy: 0.9667969\n",
      "Step: 850 Loss: 0.0 Accuracy: 1.0\n",
      "Test Accuracy: 0.9707031\n",
      "Step: 900 Loss: 9.570648 Accuracy: 0.9921875\n",
      "Test Accuracy: 0.96484375\n",
      "Step: 950 Loss: 312.26782 Accuracy: 0.9765625\n",
      "Test Accuracy: 0.96484375\n",
      "Step: 1000 Loss: 3.4000854 Accuracy: 0.9921875\n",
      "Test Accuracy: 0.96484375\n",
      "Step: 1050 Loss: 143.4137 Accuracy: 0.96875\n",
      "Test Accuracy: 0.9628906\n",
      "Step: 1100 Loss: 299.95322 Accuracy: 0.9609375\n",
      "Test Accuracy: 0.9628906\n",
      "Step: 1150 Loss: 536.29297 Accuracy: 0.9375\n",
      "Test Accuracy: 0.96875\n",
      "Step: 1200 Loss: 0.86439514 Accuracy: 0.9921875\n",
      "Test Accuracy: 0.96484375\n",
      "Step: 1250 Loss: 488.746 Accuracy: 0.9453125\n",
      "Test Accuracy: 0.96484375\n",
      "Step: 1300 Loss: 0.0 Accuracy: 1.0\n",
      "Test Accuracy: 0.9628906\n",
      "Step: 1350 Loss: 113.84761 Accuracy: 0.984375\n",
      "Test Accuracy: 0.96875\n",
      "Step: 1400 Loss: 42.66279 Accuracy: 0.984375\n",
      "Test Accuracy: 0.9667969\n",
      "Step: 1450 Loss: 6.303215 Accuracy: 0.9921875\n",
      "Test Accuracy: 0.9609375\n",
      "Step: 1500 Loss: 228.05171 Accuracy: 0.96875\n",
      "Test Accuracy: 0.9707031\n",
      "Step: 1550 Loss: 237.71526 Accuracy: 0.9609375\n",
      "Test Accuracy: 0.9707031\n",
      "Step: 1600 Loss: 157.5957 Accuracy: 0.984375\n",
      "Test Accuracy: 0.9707031\n",
      "Step: 1650 Loss: 158.62366 Accuracy: 0.9609375\n",
      "Test Accuracy: 0.9746094\n",
      "Step: 1700 Loss: 90.59617 Accuracy: 0.9921875\n",
      "Test Accuracy: 0.97265625\n",
      "Step: 1750 Loss: 75.70372 Accuracy: 0.96875\n",
      "Test Accuracy: 0.96875\n",
      "Step: 1800 Loss: 206.23926 Accuracy: 0.9765625\n",
      "Test Accuracy: 0.9707031\n",
      "Step: 1850 Loss: 80.686104 Accuracy: 0.9765625\n",
      "Test Accuracy: 0.96875\n",
      "Step: 1900 Loss: 89.45217 Accuracy: 0.984375\n",
      "Test Accuracy: 0.9765625\n",
      "Step: 1950 Loss: 106.779724 Accuracy: 0.96875\n",
      "Test Accuracy: 0.97265625\n",
      "Step: 2000 Loss: 233.46466 Accuracy: 0.96875\n",
      "Test Accuracy: 0.9707031\n",
      "Step: 2050 Loss: 87.40864 Accuracy: 0.984375\n",
      "Test Accuracy: 0.9707031\n",
      "Step: 2100 Loss: 67.04413 Accuracy: 0.984375\n",
      "Test Accuracy: 0.96875\n",
      "Step: 2150 Loss: 205.91052 Accuracy: 0.9609375\n",
      "Test Accuracy: 0.96875\n",
      "Step: 2200 Loss: 9.39138 Accuracy: 0.984375\n",
      "Test Accuracy: 0.97265625\n",
      "Step: 2250 Loss: 0.0 Accuracy: 1.0\n",
      "Test Accuracy: 0.9785156\n",
      "Step: 2300 Loss: 43.652824 Accuracy: 0.9765625\n",
      "Test Accuracy: 0.9746094\n",
      "Step: 2350 Loss: 75.22538 Accuracy: 0.9921875\n",
      "Test Accuracy: 0.9707031\n",
      "Step: 2400 Loss: 68.59618 Accuracy: 0.9765625\n",
      "Test Accuracy: 0.97265625\n",
      "Step: 2450 Loss: 35.842567 Accuracy: 0.984375\n",
      "Test Accuracy: 0.9707031\n",
      "Step: 2500 Loss: 89.52571 Accuracy: 0.984375\n",
      "Test Accuracy: 0.9746094\n",
      "Step: 2550 Loss: 16.245026 Accuracy: 0.9921875\n",
      "Test Accuracy: 0.984375\n",
      "Step: 2600 Loss: 38.276016 Accuracy: 0.9921875\n",
      "Test Accuracy: 0.9746094\n",
      "Step: 2650 Loss: 100.11438 Accuracy: 0.984375\n",
      "Test Accuracy: 0.9785156\n",
      "Step: 2700 Loss: 32.64312 Accuracy: 0.9765625\n",
      "Test Accuracy: 0.9707031\n",
      "Step: 2750 Loss: 1.7175522 Accuracy: 0.9921875\n",
      "Test Accuracy: 0.9707031\n",
      "Step: 2800 Loss: 34.68598 Accuracy: 0.9921875\n",
      "Test Accuracy: 0.9765625\n",
      "Step: 2850 Loss: 41.944115 Accuracy: 0.984375\n",
      "Test Accuracy: 0.9746094\n",
      "Step: 2900 Loss: 0.0 Accuracy: 1.0\n",
      "Test Accuracy: 0.9707031\n",
      "Step: 2950 Loss: 41.073868 Accuracy: 0.9921875\n",
      "Test Accuracy: 0.9765625\n",
      "Step: 3000 Loss: 0.0 Accuracy: 1.0\n",
      "Test Accuracy: 0.9785156\n",
      "Step: 3050 Loss: 0.0 Accuracy: 1.0\n",
      "Test Accuracy: 0.9765625\n",
      "Step: 3100 Loss: 0.0 Accuracy: 1.0\n",
      "Test Accuracy: 0.9707031\n",
      "Step: 3150 Loss: 85.841675 Accuracy: 0.984375\n",
      "Test Accuracy: 0.9765625\n",
      "Step: 3200 Loss: 0.0 Accuracy: 1.0\n",
      "Test Accuracy: 0.9746094\n",
      "Step: 3250 Loss: 0.0 Accuracy: 1.0\n",
      "Test Accuracy: 0.9765625\n",
      "Step: 3300 Loss: 7.827225 Accuracy: 0.9921875\n",
      "Test Accuracy: 0.97265625\n",
      "Step: 3350 Loss: 68.102234 Accuracy: 0.984375\n",
      "Test Accuracy: 0.9707031\n",
      "Step: 3400 Loss: 9.544701 Accuracy: 0.9921875\n",
      "Test Accuracy: 0.98046875\n",
      "Step: 3450 Loss: 24.984882 Accuracy: 0.9921875\n",
      "Test Accuracy: 0.9785156\n",
      "Step: 3500 Loss: 37.580414 Accuracy: 0.9921875\n",
      "Test Accuracy: 0.9765625\n",
      "Step: 3550 Loss: 3.7404861 Accuracy: 0.9921875\n",
      "Test Accuracy: 0.9785156\n",
      "Step: 3600 Loss: 224.38956 Accuracy: 0.96875\n",
      "Test Accuracy: 0.97265625\n",
      "Step: 3650 Loss: 0.0 Accuracy: 1.0\n",
      "Test Accuracy: 0.98046875\n",
      "Step: 3700 Loss: 259.43616 Accuracy: 0.9609375\n",
      "Test Accuracy: 0.9785156\n",
      "Step: 3750 Loss: 0.0 Accuracy: 1.0\n",
      "Test Accuracy: 0.9765625\n",
      "Step: 3800 Loss: 21.963898 Accuracy: 0.9921875\n",
      "Test Accuracy: 0.9765625\n",
      "Step: 3850 Loss: 0.0 Accuracy: 1.0\n",
      "Test Accuracy: 0.98046875\n",
      "Step: 3900 Loss: 0.0 Accuracy: 1.0\n",
      "Test Accuracy: 0.9707031\n",
      "Step: 3950 Loss: 0.0 Accuracy: 1.0\n",
      "Test Accuracy: 0.9785156\n",
      "Step: 4000 Loss: 0.0 Accuracy: 1.0\n",
      "Test Accuracy: 0.9785156\n",
      "Step: 4050 Loss: 0.0 Accuracy: 1.0\n",
      "Test Accuracy: 0.9824219\n",
      "Step: 4100 Loss: 10.911835 Accuracy: 0.9921875\n",
      "Test Accuracy: 0.984375\n",
      "Step: 4150 Loss: 6.6642914 Accuracy: 0.9921875\n",
      "Test Accuracy: 0.9824219\n",
      "Step: 4200 Loss: 43.43515 Accuracy: 0.9921875\n",
      "Test Accuracy: 0.98046875\n",
      "Step: 4250 Loss: 12.482883 Accuracy: 0.984375\n",
      "Test Accuracy: 0.9765625\n",
      "Step: 4300 Loss: 24.657486 Accuracy: 0.984375\n",
      "Test Accuracy: 0.9765625\n",
      "Step: 4350 Loss: 24.816483 Accuracy: 0.9921875\n",
      "Test Accuracy: 0.9746094\n",
      "Step: 4400 Loss: 56.15555 Accuracy: 0.984375\n",
      "Test Accuracy: 0.9746094\n",
      "Step: 4450 Loss: 24.195808 Accuracy: 0.984375\n",
      "Test Accuracy: 0.9785156\n",
      "Step: 4500 Loss: 43.00264 Accuracy: 0.9921875\n",
      "Test Accuracy: 0.98046875\n",
      "Step: 4550 Loss: 23.383781 Accuracy: 0.9921875\n",
      "Test Accuracy: 0.9785156\n",
      "Step: 4600 Loss: 0.0 Accuracy: 1.0\n",
      "Test Accuracy: 0.9765625\n",
      "Step: 4650 Loss: 0.0 Accuracy: 1.0\n",
      "Test Accuracy: 0.9785156\n",
      "Step: 4700 Loss: 19.299492 Accuracy: 0.9921875\n",
      "Test Accuracy: 0.9765625\n",
      "Step: 4750 Loss: 0.0 Accuracy: 1.0\n",
      "Test Accuracy: 0.9765625\n",
      "Step: 4800 Loss: 0.0 Accuracy: 1.0\n",
      "Test Accuracy: 0.9824219\n",
      "Step: 4850 Loss: 0.0 Accuracy: 1.0\n",
      "Test Accuracy: 0.9824219\n",
      "Step: 4900 Loss: 0.0 Accuracy: 1.0\n",
      "Test Accuracy: 0.9824219\n",
      "Step: 4950 Loss: 35.47207 Accuracy: 0.984375\n",
      "Test Accuracy: 0.9824219\n",
      "Optimization complete...now testing on complete dataset\n",
      "Accuracy: 0.9828\n"
     ]
    }
   ],
   "source": [
    "with tf.Session() as sess:\n",
    "    start = 0\n",
    "    end = batch_size\n",
    "    sess.run(init)\n",
    "    \n",
    "    for step in range(num_steps):\n",
    "        batch_x, batch_y = get_batch(start, end)\n",
    "        sess.run(train_op, feed_dict={X:batch_x, Y:batch_y, keep_prob:dropout})\n",
    "        start += batch_size\n",
    "        end += batch_size\n",
    "        if step % display_step == 0 or step == 1:\n",
    "            loss, ac = sess.run([loss_op, accuracy], feed_dict={X:batch_x, Y:batch_y,\n",
    "                                                               keep_prob:1.0})\n",
    "            print (\"Step:\",step,\n",
    "                   \"Loss:\", loss,\n",
    "                  \"Accuracy:\", ac)\n",
    "            print (\"Test Accuracy:\",\n",
    "            sess.run(accuracy, feed_dict={X:mnist.test.images[:512], Y:mnist.test.labels[:512],\n",
    "                                       keep_prob:1.0}))\n",
    "        if end >= len(mnist.train.images):\n",
    "            start = 0\n",
    "            end = batch_size\n",
    "            \n",
    "    print (\"Optimization complete...now testing on complete dataset\")\n",
    "    \n",
    "    print (\"Accuracy:\",\n",
    "          sess.run(accuracy, feed_dict={X:mnist.test.images, Y:mnist.test.labels,\n",
    "                                       keep_prob:1.0}))"
   ]
  },
  {
   "cell_type": "markdown",
   "metadata": {
    "colab": {},
    "colab_type": "code",
    "id": "JSzVmTJvBeU9"
   },
   "source": [
    "# Keras API"
   ]
  },
  {
   "cell_type": "code",
   "execution_count": 3,
   "metadata": {},
   "outputs": [],
   "source": [
    "from tensorflow import keras"
   ]
  },
  {
   "cell_type": "code",
   "execution_count": 4,
   "metadata": {},
   "outputs": [],
   "source": [
    "x_train = mnist.train.images\n",
    "x_test = mnist.test.images\n",
    "y_train = mnist.train.labels\n",
    "y_test = mnist.test.labels"
   ]
  },
  {
   "cell_type": "code",
   "execution_count": 9,
   "metadata": {},
   "outputs": [
    {
     "name": "stdout",
     "output_type": "stream",
     "text": [
      "_________________________________________________________________\n",
      "Layer (type)                 Output Shape              Param #   \n",
      "=================================================================\n",
      "dense_4 (Dense)              (None, 64)                50240     \n",
      "_________________________________________________________________\n",
      "dense_5 (Dense)              (None, 64)                4160      \n",
      "_________________________________________________________________\n",
      "dense_6 (Dense)              (None, 10)                650       \n",
      "=================================================================\n",
      "Total params: 55,050\n",
      "Trainable params: 55,050\n",
      "Non-trainable params: 0\n",
      "_________________________________________________________________\n"
     ]
    }
   ],
   "source": [
    "model = keras.Sequential()\n",
    "model.add(keras.layers.Dense(64, 'relu', input_shape=(784, )))\n",
    "model.add(keras.layers.Dense(64, 'relu'))\n",
    "model.add(keras.layers.Dense(10, 'softmax'))\n",
    "model.summary()"
   ]
  },
  {
   "cell_type": "code",
   "execution_count": 10,
   "metadata": {},
   "outputs": [],
   "source": [
    "model.compile(optimizer=tf.train.AdamOptimizer(0.001),\n",
    "              loss = 'categorical_crossentropy',\n",
    "              metrics = ['accuracy'])"
   ]
  },
  {
   "cell_type": "code",
   "execution_count": 11,
   "metadata": {},
   "outputs": [
    {
     "name": "stdout",
     "output_type": "stream",
     "text": [
      "Train on 55000 samples, validate on 10000 samples\n",
      "Epoch 1/20\n",
      "55000/55000 [==============================] - 4s 67us/step - loss: 0.3164 - acc: 0.9093 - val_loss: 0.1543 - val_acc: 0.9540\n",
      "Epoch 2/20\n",
      "55000/55000 [==============================] - 2s 40us/step - loss: 0.1331 - acc: 0.9617 - val_loss: 0.1226 - val_acc: 0.9636\n",
      "Epoch 3/20\n",
      "55000/55000 [==============================] - 2s 39us/step - loss: 0.0965 - acc: 0.9704 - val_loss: 0.1085 - val_acc: 0.9673\n",
      "Epoch 4/20\n",
      "55000/55000 [==============================] - 2s 40us/step - loss: 0.0781 - acc: 0.9760 - val_loss: 0.0860 - val_acc: 0.9723\n",
      "Epoch 5/20\n",
      "55000/55000 [==============================] - 3s 46us/step - loss: 0.0636 - acc: 0.9799 - val_loss: 0.0892 - val_acc: 0.9729\n",
      "Epoch 6/20\n",
      "55000/55000 [==============================] - 3s 51us/step - loss: 0.0535 - acc: 0.9838 - val_loss: 0.0889 - val_acc: 0.9735\n",
      "Epoch 7/20\n",
      "55000/55000 [==============================] - 2s 40us/step - loss: 0.0445 - acc: 0.9861 - val_loss: 0.0939 - val_acc: 0.9720\n",
      "Epoch 8/20\n",
      "55000/55000 [==============================] - 2s 40us/step - loss: 0.0383 - acc: 0.9879 - val_loss: 0.0814 - val_acc: 0.9759\n",
      "Epoch 9/20\n",
      "55000/55000 [==============================] - 2s 41us/step - loss: 0.0338 - acc: 0.9893 - val_loss: 0.0975 - val_acc: 0.9711\n",
      "Epoch 10/20\n",
      "55000/55000 [==============================] - 2s 41us/step - loss: 0.0313 - acc: 0.9895 - val_loss: 0.0923 - val_acc: 0.9726\n",
      "Epoch 11/20\n",
      "55000/55000 [==============================] - 2s 41us/step - loss: 0.0250 - acc: 0.9920 - val_loss: 0.0956 - val_acc: 0.9743\n",
      "Epoch 12/20\n",
      "55000/55000 [==============================] - 2s 41us/step - loss: 0.0238 - acc: 0.9926 - val_loss: 0.0968 - val_acc: 0.9741\n",
      "Epoch 13/20\n",
      "55000/55000 [==============================] - 2s 41us/step - loss: 0.0206 - acc: 0.9931 - val_loss: 0.0936 - val_acc: 0.9753\n",
      "Epoch 14/20\n",
      "55000/55000 [==============================] - 2s 43us/step - loss: 0.0189 - acc: 0.9935 - val_loss: 0.0951 - val_acc: 0.9760\n",
      "Epoch 15/20\n",
      "55000/55000 [==============================] - 2s 41us/step - loss: 0.0176 - acc: 0.9944 - val_loss: 0.1021 - val_acc: 0.9749\n",
      "Epoch 16/20\n",
      "55000/55000 [==============================] - 2s 42us/step - loss: 0.0161 - acc: 0.9947 - val_loss: 0.0992 - val_acc: 0.9756\n",
      "Epoch 17/20\n",
      "55000/55000 [==============================] - 2s 40us/step - loss: 0.0162 - acc: 0.9947 - val_loss: 0.1075 - val_acc: 0.9755\n",
      "Epoch 18/20\n",
      "55000/55000 [==============================] - 2s 43us/step - loss: 0.0102 - acc: 0.9967 - val_loss: 0.1152 - val_acc: 0.9734\n",
      "Epoch 19/20\n",
      "55000/55000 [==============================] - 3s 51us/step - loss: 0.0150 - acc: 0.9953 - val_loss: 0.1133 - val_acc: 0.9737\n",
      "Epoch 20/20\n",
      "55000/55000 [==============================] - 2s 45us/step - loss: 0.0136 - acc: 0.9953 - val_loss: 0.1231 - val_acc: 0.9733\n"
     ]
    },
    {
     "data": {
      "text/plain": [
       "<tensorflow.python.keras._impl.keras.callbacks.History at 0x1c2eada400>"
      ]
     },
     "execution_count": 11,
     "metadata": {},
     "output_type": "execute_result"
    }
   ],
   "source": [
    "model.fit(x=x_train, y=y_train, batch_size=50, \n",
    "          epochs = 10,\n",
    "          validation_data=(x_test, y_test))"
   ]
  },
  {
   "cell_type": "markdown",
   "metadata": {},
   "source": [
    "# Keras Layers API"
   ]
  },
  {
   "cell_type": "code",
   "execution_count": 5,
   "metadata": {},
   "outputs": [],
   "source": [
    "x_train = x_train.reshape(x_train.shape[0], 28, 28, 1)\n",
    "x_test = x_test.reshape(x_test.shape[0], 28, 28, 1)\n",
    "\n",
    "input_shape = (28, 28, 1)"
   ]
  },
  {
   "cell_type": "code",
   "execution_count": 13,
   "metadata": {},
   "outputs": [
    {
     "name": "stdout",
     "output_type": "stream",
     "text": [
      "_________________________________________________________________\n",
      "Layer (type)                 Output Shape              Param #   \n",
      "=================================================================\n",
      "input_4 (InputLayer)         (None, 28, 28, 1)         0         \n",
      "_________________________________________________________________\n",
      "conv2d_7 (Conv2D)            (None, 24, 24, 32)        832       \n",
      "_________________________________________________________________\n",
      "max_pooling2d_7 (MaxPooling2 (None, 12, 12, 32)        0         \n",
      "_________________________________________________________________\n",
      "dropout_7 (Dropout)          (None, 12, 12, 32)        0         \n",
      "_________________________________________________________________\n",
      "conv2d_8 (Conv2D)            (None, 8, 8, 64)          51264     \n",
      "_________________________________________________________________\n",
      "max_pooling2d_8 (MaxPooling2 (None, 4, 4, 64)          0         \n",
      "_________________________________________________________________\n",
      "dropout_8 (Dropout)          (None, 4, 4, 64)          0         \n",
      "_________________________________________________________________\n",
      "flatten_2 (Flatten)          (None, 1024)              0         \n",
      "_________________________________________________________________\n",
      "dense_10 (Dense)             (None, 32)                32800     \n",
      "_________________________________________________________________\n",
      "dropout_9 (Dropout)          (None, 32)                0         \n",
      "_________________________________________________________________\n",
      "dense_11 (Dense)             (None, 16)                528       \n",
      "_________________________________________________________________\n",
      "batch_normalization_1 (Batch (None, 16)                64        \n",
      "_________________________________________________________________\n",
      "activation_1 (Activation)    (None, 16)                0         \n",
      "_________________________________________________________________\n",
      "dense_12 (Dense)             (None, 10)                170       \n",
      "=================================================================\n",
      "Total params: 85,658\n",
      "Trainable params: 85,626\n",
      "Non-trainable params: 32\n",
      "_________________________________________________________________\n"
     ]
    }
   ],
   "source": [
    "inputs = keras.Input(shape=input_shape)\n",
    "# First convolutional layer\n",
    "x = keras.layers.Conv2D(32, kernel_size=(5, 5), activation='relu') (inputs)\n",
    "x = keras.layers.MaxPool2D(pool_size=(2, 2)) (x)\n",
    "x = keras.layers.Dropout(0.5) (x)\n",
    "# Second convolutional layer\n",
    "x = keras.layers.Conv2D(64, kernel_size=(5, 5), activation='relu') (x)\n",
    "x = keras.layers.MaxPool2D(pool_size=(2, 2)) (x)\n",
    "x = keras.layers.Dropout(0.5) (x)\n",
    "# Fully-connected layer\n",
    "x = keras.layers.Flatten() (x)\n",
    "x = keras.layers.Dense(32, 'relu') (x)\n",
    "x = keras.layers.Dropout(0.5) (x)\n",
    "x = keras.layers.Dense(16) (x)\n",
    "x = keras.layers.BatchNormalization() (x)\n",
    "x = keras.layers.Activation('relu') (x)\n",
    "preds = keras.layers.Dense(10, 'softmax') (x)\n",
    "model = keras.Model(inputs=inputs, outputs=preds)\n",
    "model.summary()"
   ]
  },
  {
   "cell_type": "code",
   "execution_count": 14,
   "metadata": {},
   "outputs": [],
   "source": [
    "model.compile(optimizer=tf.train.AdamOptimizer(0.001),\n",
    "              loss = 'categorical_crossentropy',\n",
    "              metrics = ['accuracy'])"
   ]
  },
  {
   "cell_type": "code",
   "execution_count": null,
   "metadata": {},
   "outputs": [
    {
     "name": "stdout",
     "output_type": "stream",
     "text": [
      "Train on 55000 samples, validate on 10000 samples\n",
      "Epoch 1/10\n",
      "55000/55000 [==============================] - 57s 1ms/step - loss: 0.8634 - acc: 0.7482 - val_loss: 0.1009 - val_acc: 0.9779\n",
      "Epoch 2/10\n",
      "20850/55000 [==========>...................] - ETA: 36s - loss: 0.3498 - acc: 0.8964"
     ]
    }
   ],
   "source": [
    "model.fit(x=x_train, y=y_train, batch_size=50, \n",
    "          epochs = 10,\n",
    "          validation_data=(x_test, y_test))"
   ]
  },
  {
   "cell_type": "code",
   "execution_count": null,
   "metadata": {},
   "outputs": [],
   "source": []
  }
 ],
 "metadata": {
  "accelerator": "GPU",
  "colab": {
   "name": "CNN_MNIST.ipynb",
   "provenance": [],
   "version": "0.3.2"
  },
  "kernelspec": {
   "display_name": "Python 3",
   "language": "python",
   "name": "python3"
  },
  "language_info": {
   "codemirror_mode": {
    "name": "ipython",
    "version": 3
   },
   "file_extension": ".py",
   "mimetype": "text/x-python",
   "name": "python",
   "nbconvert_exporter": "python",
   "pygments_lexer": "ipython3",
   "version": "3.6.4"
  }
 },
 "nbformat": 4,
 "nbformat_minor": 1
}
