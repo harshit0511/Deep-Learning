{
 "cells": [
  {
   "cell_type": "code",
   "execution_count": 1,
   "metadata": {
    "colab": {
     "base_uri": "https://localhost:8080/",
     "height": 35
    },
    "colab_type": "code",
    "id": "h2-WjGalc70y",
    "outputId": "73c827b4-22fd-4785-d7d4-a65642df87c4"
   },
   "outputs": [
    {
     "name": "stdout",
     "output_type": "stream",
     "text": [
      "1.12.0\n"
     ]
    }
   ],
   "source": [
    "import numpy as np\n",
    "from __future__ import print_function\n",
    "import tensorflow as tf\n",
    "import matplotlib.pyplot as plt\n",
    "%matplotlib inline\n",
    "\n",
    "print(tf.__version__)"
   ]
  },
  {
   "cell_type": "code",
   "execution_count": 0,
   "metadata": {
    "colab": {},
    "colab_type": "code",
    "id": "yKvKycMrc704"
   },
   "outputs": [],
   "source": [
    "def one_hot_encode(x, num_classes):\n",
    "    \"\"\"\n",
    "        argument\n",
    "            - x: a list of labels\n",
    "        return\n",
    "            - one hot encoding matrix (number of labels, number of class)\n",
    "    \"\"\"\n",
    "    encoded = np.zeros((len(x), num_classes))\n",
    "    \n",
    "    for idx, val in enumerate(x):\n",
    "        encoded[idx][val] = 1\n",
    "    \n",
    "    return encoded"
   ]
  },
  {
   "cell_type": "code",
   "execution_count": 0,
   "metadata": {
    "colab": {},
    "colab_type": "code",
    "id": "jgizP2zxc707"
   },
   "outputs": [],
   "source": [
    "(x_train, y_train), (x_test, y_test) = tf.keras.datasets.cifar10.load_data()"
   ]
  },
  {
   "cell_type": "code",
   "execution_count": 0,
   "metadata": {
    "colab": {},
    "colab_type": "code",
    "id": "oNIbevs1c70-"
   },
   "outputs": [],
   "source": [
    "# Hyper-parameters\n",
    "learning_rate = 0.001\n",
    "num_steps = 500\n",
    "display_step = 50\n",
    "batch_size = 100\n",
    "epochs = 20\n",
    "\n",
    "num_inputs = 32*32*3\n",
    "num_classes = 10\n",
    "dropout = 0.5\n",
    "\n",
    "# One-hot encoding the output labels\n",
    "y_train = one_hot_encode(y_train, num_classes)\n",
    "y_test = one_hot_encode(y_test, num_classes)\n",
    "\n",
    "X = tf.placeholder(tf.float32, [None, 32, 32, 3])\n",
    "Y = tf.placeholder(tf.float32, [None, num_classes])\n",
    "keep_prob = tf.placeholder(tf.float32)"
   ]
  },
  {
   "cell_type": "markdown",
   "metadata": {
    "colab_type": "text",
    "id": "xmh-4Tlpc71A"
   },
   "source": [
    "## CNN block"
   ]
  },
  {
   "cell_type": "code",
   "execution_count": 0,
   "metadata": {
    "colab": {},
    "colab_type": "code",
    "id": "-MfmU2jLc71B"
   },
   "outputs": [],
   "source": [
    "def conv2d(x, W, b, strides=1):\n",
    "    x = tf.nn.conv2d(x, W, strides=[1, strides, strides, 1], padding='SAME')\n",
    "    x = tf.nn.bias_add(x, b)\n",
    "    return tf.nn.relu(x)\n",
    "\n",
    "def maxpool2d(x, k=2):\n",
    "    return tf.nn.max_pool(x, ksize=[1, k, k, 1], strides=[1, k, k, 1],\n",
    "                         padding='SAME')\n",
    "\n",
    "def conv_net(x, weights, biases, dropout):\n",
    "    #x = tf.reshape(x, shape=[-1, 28, 28, 1])\n",
    "    \n",
    "    conv1 = conv2d(x, weights['wc1'], biases['wb1'])\n",
    "    conv1 = maxpool2d(conv1, k=2)\n",
    "    \n",
    "    conv2 = conv2d(conv1, weights['wc2'], biases['wb2'])\n",
    "    conv2 = maxpool2d(conv2, k=2)\n",
    "    \n",
    "    fc1 = tf.reshape(conv2, [-1, weights['wd1'].get_shape().as_list()[0]])\n",
    "    fc1 = tf.add(tf.matmul(fc1, weights['wd1']), biases['bd1'])\n",
    "    fc1 = tf.nn.relu(fc1)\n",
    "    # dropout\n",
    "    d0 = tf.nn.dropout(fc1, dropout)\n",
    "    \n",
    "    # Output class prediction\n",
    "    out = tf.add(tf.matmul(d0, weights['out']), biases['out'])\n",
    "    return out"
   ]
  },
  {
   "cell_type": "code",
   "execution_count": 0,
   "metadata": {
    "colab": {},
    "colab_type": "code",
    "id": "aBFKD6c2c71D"
   },
   "outputs": [],
   "source": [
    "W = {\n",
    "    'wc1': tf.Variable(tf.random_normal([5, 5, 3, 16])),\n",
    "    'wc2': tf.Variable(tf.random_normal([5, 5, 16, 32])),\n",
    "    'wd1': tf.Variable(tf.random_normal([8*8*32, 512])),\n",
    "    'out': tf.Variable(tf.random_normal([512, num_classes]))\n",
    "}\n",
    "B = {\n",
    "    'wb1': tf.Variable(tf.random_normal([16])),\n",
    "    'wb2': tf.Variable(tf.random_normal([32])),\n",
    "    'bd1': tf.Variable(tf.random_normal([512])),\n",
    "    'out': tf.Variable(tf.random_normal([num_classes]))\n",
    "}"
   ]
  },
  {
   "cell_type": "code",
   "execution_count": 0,
   "metadata": {
    "colab": {},
    "colab_type": "code",
    "id": "pqpZn1TVc71G"
   },
   "outputs": [],
   "source": [
    "logits = conv_net(X, W, B, keep_prob)\n",
    "prediction = tf.nn.softmax(logits)\n",
    "\n",
    "loss = tf.reduce_mean(tf.nn.softmax_cross_entropy_with_logits(labels=Y, logits=prediction))\n",
    "optimizer = tf.train.AdamOptimizer(learning_rate=learning_rate)\n",
    "train_op = optimizer.minimize(loss)\n",
    "\n",
    "correct_pred = tf.equal(tf.argmax(prediction, 1), tf.argmax(Y, 1))\n",
    "accuracy = tf.reduce_mean(tf.cast(correct_pred, tf.float32))\n",
    "\n",
    "init = tf.global_variables_initializer()"
   ]
  },
  {
   "cell_type": "code",
   "execution_count": 0,
   "metadata": {
    "colab": {},
    "colab_type": "code",
    "id": "F953lP--c71J"
   },
   "outputs": [],
   "source": [
    "def get_batch(start, end):\n",
    "    #print (start, end)\n",
    "    x = x_train[start:end]\n",
    "    y = y_train[start:end]\n",
    "    return x, y"
   ]
  },
  {
   "cell_type": "code",
   "execution_count": 19,
   "metadata": {
    "colab": {
     "base_uri": "https://localhost:8080/",
     "height": 35
    },
    "colab_type": "code",
    "id": "VfHijVEheKZD",
    "outputId": "e2f52b0b-6ca9-4877-bdda-5bd91f306da1"
   },
   "outputs": [
    {
     "data": {
      "text/plain": [
       "500"
      ]
     },
     "execution_count": 19,
     "metadata": {
      "tags": []
     },
     "output_type": "execute_result"
    }
   ],
   "source": [
    "len(x_train)//batch_size"
   ]
  },
  {
   "cell_type": "code",
   "execution_count": 20,
   "metadata": {
    "colab": {
     "base_uri": "https://localhost:8080/",
     "height": 397
    },
    "colab_type": "code",
    "id": "_FvF1gV2c71L",
    "outputId": "de2ff788-4bf2-4c6b-c96e-34a477185bbd"
   },
   "outputs": [
    {
     "name": "stdout",
     "output_type": "stream",
     "text": [
      "Epoch: 1 Loss: 2.3451502 Accuracy: 0.116\n",
      "Epoch: 2 Loss: 2.3451502 Accuracy: 0.116\n",
      "Epoch: 3 Loss: 2.3451502 Accuracy: 0.116\n",
      "Epoch: 4 Loss: 2.3451502 Accuracy: 0.116\n",
      "Epoch: 5 Loss: 2.3451502 Accuracy: 0.116\n",
      "Epoch: 6 Loss: 2.3451502 Accuracy: 0.116\n",
      "Epoch: 7 Loss: 2.3451502 Accuracy: 0.116\n",
      "Epoch: 8 Loss: 2.3451502 Accuracy: 0.116\n",
      "Epoch: 9 Loss: 2.3451502 Accuracy: 0.116\n",
      "Epoch: 10 Loss: 2.3451502 Accuracy: 0.116\n",
      "Epoch: 11 Loss: 2.3451502 Accuracy: 0.116\n",
      "Epoch: 12 Loss: 2.3451502 Accuracy: 0.116\n",
      "Epoch: 13 Loss: 2.3451502 Accuracy: 0.116\n",
      "Epoch: 14 Loss: 2.3531501 Accuracy: 0.108\n",
      "Epoch: 15 Loss: 2.3531501 Accuracy: 0.108\n",
      "Epoch: 16 Loss: 2.3531501 Accuracy: 0.108\n",
      "Epoch: 17 Loss: 2.3531501 Accuracy: 0.108\n",
      "Epoch: 18 Loss: 2.3531501 Accuracy: 0.108\n",
      "Epoch: 19 Loss: 2.3531501 Accuracy: 0.108\n",
      "Epoch: 20 Loss: 2.3531501 Accuracy: 0.108\n",
      "Optimization complete, now checking on test set...\n",
      "Accuracy 0.1\n"
     ]
    }
   ],
   "source": [
    "with tf.Session() as sess:\n",
    "    \n",
    "    sess.run(init)\n",
    "    \n",
    "    for nb in range(epochs):\n",
    "      start = 0\n",
    "      end = batch_size\n",
    "    \n",
    "      for step in range(len(x_train)//batch_size):\n",
    "          batch_x, batch_y = get_batch(start, end)\n",
    "          sess.run(train_op, feed_dict={X:batch_x, Y:batch_y, keep_prob:dropout})\n",
    "\n",
    "          start += batch_size\n",
    "          end += batch_size\n",
    "\n",
    "      l, a = sess.run([loss, accuracy], feed_dict={X:x_test[:500], \n",
    "                                                           Y:y_test[:500],\n",
    "                                                          keep_prob:1.0})\n",
    "      print (\"Epoch:\", nb+1,\n",
    "                    \"Loss:\", l,\n",
    "                    \"Accuracy:\", a)\n",
    "            \n",
    "    print (\"Optimization complete, now checking on test set...\")\n",
    "    print (\"Accuracy\", sess.run(accuracy, feed_dict={X:x_test, Y:y_test, keep_prob:1.0}))"
   ]
  },
  {
   "cell_type": "code",
   "execution_count": 0,
   "metadata": {
    "colab": {},
    "colab_type": "code",
    "id": "1ApM3CBBc71P"
   },
   "outputs": [],
   "source": []
  }
 ],
 "metadata": {
  "accelerator": "GPU",
  "colab": {
   "name": "CNN_CIFAR.ipynb",
   "provenance": [],
   "version": "0.3.2"
  },
  "kernelspec": {
   "display_name": "Python 3",
   "language": "python",
   "name": "python3"
  },
  "language_info": {
   "codemirror_mode": {
    "name": "ipython",
    "version": 3
   },
   "file_extension": ".py",
   "mimetype": "text/x-python",
   "name": "python",
   "nbconvert_exporter": "python",
   "pygments_lexer": "ipython3",
   "version": "3.6.4"
  }
 },
 "nbformat": 4,
 "nbformat_minor": 1
}
