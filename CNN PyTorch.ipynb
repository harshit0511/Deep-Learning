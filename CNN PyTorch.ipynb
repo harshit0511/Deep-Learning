{
 "cells": [
  {
   "cell_type": "markdown",
   "metadata": {},
   "source": [
    "# <b> Convolutional Neural Network using PyTorch </b>\n",
    "## Submitted by : \n",
    "## Harshit Srivastava (hs3500)\n",
    "## Shradha Taneja (st3277)"
   ]
  },
  {
   "cell_type": "code",
   "execution_count": 2,
   "metadata": {
    "colab": {
     "base_uri": "https://localhost:8080/",
     "height": 326
    },
    "colab_type": "code",
    "id": "nNHGArRFcLNk",
    "outputId": "43022e9f-604a-47b1-868a-6ced8291bb8c"
   },
   "outputs": [
    {
     "name": "stdout",
     "output_type": "stream",
     "text": [
      "Collecting torch\n",
      "\u001b[?25l  Downloading https://files.pythonhosted.org/packages/49/0e/e382bcf1a6ae8225f50b99cc26effa2d4cc6d66975ccf3fa9590efcbedce/torch-0.4.1-cp36-cp36m-manylinux1_x86_64.whl (519.5MB)\n",
      "\u001b[K    100% |████████████████████████████████| 519.5MB 33kB/s \n",
      "tcmalloc: large alloc 1073750016 bytes == 0x59254000 @  0x7f3f5630e1c4 0x46d6a4 0x5fcbcc 0x4c494d 0x54f3c4 0x553aaf 0x54e4c8 0x54f4f6 0x553aaf 0x54efc1 0x54f24d 0x553aaf 0x54efc1 0x54f24d 0x553aaf 0x54efc1 0x54f24d 0x551ee0 0x54e4c8 0x54f4f6 0x553aaf 0x54efc1 0x54f24d 0x551ee0 0x54efc1 0x54f24d 0x551ee0 0x54e4c8 0x54f4f6 0x553aaf 0x54e4c8\n",
      "\u001b[?25hCollecting torchvision\n",
      "\u001b[?25l  Downloading https://files.pythonhosted.org/packages/ca/0d/f00b2885711e08bd71242ebe7b96561e6f6d01fdb4b9dcf4d37e2e13c5e1/torchvision-0.2.1-py2.py3-none-any.whl (54kB)\n",
      "\u001b[K    100% |████████████████████████████████| 61kB 20.6MB/s \n",
      "\u001b[?25hRequirement already satisfied: numpy in /usr/local/lib/python3.6/dist-packages (from torchvision) (1.14.6)\n",
      "Requirement already satisfied: six in /usr/local/lib/python3.6/dist-packages (from torchvision) (1.11.0)\n",
      "Collecting pillow>=4.1.1 (from torchvision)\n",
      "\u001b[?25l  Downloading https://files.pythonhosted.org/packages/d1/24/f53ff6b61b3d728b90934bddb4f03f8ab584a7f49299bf3bde56e2952612/Pillow-5.2.0-cp36-cp36m-manylinux1_x86_64.whl (2.0MB)\n",
      "\u001b[K    100% |████████████████████████████████| 2.0MB 4.0MB/s \n",
      "\u001b[?25hInstalling collected packages: torch, pillow, torchvision\n",
      "  Found existing installation: Pillow 4.0.0\n",
      "    Uninstalling Pillow-4.0.0:\n",
      "      Successfully uninstalled Pillow-4.0.0\n",
      "Successfully installed pillow-5.2.0 torch-0.4.1 torchvision-0.2.1\n"
     ]
    }
   ],
   "source": [
    "! pip install torch torchvision\n",
    "import matplotlib.pyplot as plt\n",
    "import numpy as np\n",
    "import sys\n",
    "import torch\n",
    "import torch.nn as nn\n",
    "import torch.nn.functional as F\n",
    "import torch.optim as optim\n",
    "import torchvision\n",
    "from torchvision.transforms import transforms\n",
    "from torch.autograd import Variable\n",
    "import torch.optim as optim\n",
    "%matplotlib inline\n"
   ]
  },
  {
   "cell_type": "code",
   "execution_count": 27,
   "metadata": {
    "colab": {
     "base_uri": "https://localhost:8080/",
     "height": 51
    },
    "colab_type": "code",
    "id": "JWe4zkJgcLNs",
    "outputId": "3e72371b-252a-490b-b698-06e245aa5b17"
   },
   "outputs": [
    {
     "name": "stdout",
     "output_type": "stream",
     "text": [
      "Files already downloaded and verified\n",
      "Files already downloaded and verified\n"
     ]
    }
   ],
   "source": [
    "transform = transforms.Compose(\n",
    "    [transforms.ToTensor(),\n",
    "     transforms.Normalize((0.5, 0.5, 0.5), (0.5, 0.5, 0.5))])\n",
    "\n",
    "trainset = torchvision.datasets.CIFAR10(root='./data', train=True,\n",
    "                                        download=True, transform=transform)\n",
    "trainloader = torch.utils.data.DataLoader(trainset, batch_size=4,\n",
    "                                          shuffle=True, num_workers=2)\n",
    "\n",
    "testset = torchvision.datasets.CIFAR10(root='./data', train=False,\n",
    "                                       download=True, transform=transform)\n",
    "testloader = torch.utils.data.DataLoader(testset, batch_size=4,\n",
    "                                         shuffle=False, num_workers=2)\n",
    "\n",
    "classes = ('plane', 'car', 'bird', 'cat',\n",
    "           'deer', 'dog', 'frog', 'horse', 'ship', 'truck')"
   ]
  },
  {
   "cell_type": "code",
   "execution_count": 0,
   "metadata": {
    "colab": {},
    "colab_type": "code",
    "id": "t5c5ZxhZcLN6"
   },
   "outputs": [],
   "source": [
    "class CNN(nn.Module):\n",
    "    def __init__(self, d1=3, d2=10, kernel=5, d_pool=2, d3=6, d4=120, d5=84, n_classes=10):\n",
    "        super(CNN, self).__init__()\n",
    "\n",
    "        self.d3 = d3\n",
    "        self.kernel = kernel\n",
    "        # Network Architecture\n",
    "        self.conv1 = nn.Conv2d(d1, d2, kernel)\n",
    "        self.pool = nn.MaxPool2d(d_pool, d_pool)\n",
    "        self.conv2 = nn.Conv2d(d2, d3, kernel)\n",
    "        self.dropout = nn.Dropout2d()\n",
    "        self.fc1 = nn.Linear(d3 * kernel * kernel, d4)\n",
    "        self.fc2 = nn.Linear(d4, d5)\n",
    "        self.fc3 = nn.Linear(d5, n_classes)\n",
    "        \n",
    "    def forward(self, x):\n",
    "        #forward pass\n",
    "        #x is the input\n",
    "        x = self.pool(F.relu(self.conv1(x)))\n",
    "        x = self.pool(F.relu(self.dropout(self.conv2(x))))\n",
    "        x = x.view(-1, self.d3 * self.kernel * self.kernel)\n",
    "        x = F.relu(self.fc1(x))\n",
    "        #x = F.relu(self.dropout(self.fc2(x)))\n",
    "        x = F.dropout(F.relu(self.fc2(x)), training=self.training)\n",
    "        x = self.fc3(x)\n",
    "        return x\n",
    "\n",
    "net = CNN()\n"
   ]
  },
  {
   "cell_type": "code",
   "execution_count": 26,
   "metadata": {
    "colab": {
     "base_uri": "https://localhost:8080/",
     "height": 867
    },
    "colab_type": "code",
    "id": "A124ssPacLN_",
    "outputId": "d6610f69-5022-451f-e978-f90cf43c82b5"
   },
   "outputs": [
    {
     "name": "stdout",
     "output_type": "stream",
     "text": [
      "[1,  6000] loss: 1.983\n",
      "[1, 12000] loss: 1.772\n",
      "[2,  6000] loss: 1.647\n",
      "[2, 12000] loss: 1.593\n",
      "[3,  6000] loss: 1.532\n",
      "[3, 12000] loss: 1.497\n",
      "[4,  6000] loss: 1.456\n",
      "[4, 12000] loss: 1.427\n",
      "[5,  6000] loss: 1.398\n",
      "[5, 12000] loss: 1.374\n",
      "[6,  6000] loss: 1.356\n",
      "[6, 12000] loss: 1.327\n",
      "[7,  6000] loss: 1.307\n",
      "[7, 12000] loss: 1.297\n",
      "[8,  6000] loss: 1.275\n",
      "[8, 12000] loss: 1.265\n",
      "[9,  6000] loss: 1.234\n",
      "[9, 12000] loss: 1.241\n",
      "[10,  6000] loss: 1.218\n",
      "[10, 12000] loss: 1.204\n",
      "[11,  6000] loss: 1.184\n",
      "[11, 12000] loss: 1.184\n",
      "[12,  6000] loss: 1.160\n",
      "[12, 12000] loss: 1.162\n",
      "[13,  6000] loss: 1.137\n",
      "[13, 12000] loss: 1.141\n",
      "[14,  6000] loss: 1.116\n",
      "[14, 12000] loss: 1.117\n",
      "[15,  6000] loss: 1.102\n",
      "[15, 12000] loss: 1.092\n",
      "[16,  6000] loss: 1.078\n",
      "[16, 12000] loss: 1.080\n",
      "[17,  6000] loss: 1.062\n",
      "[17, 12000] loss: 1.060\n",
      "[18,  6000] loss: 1.045\n",
      "[18, 12000] loss: 1.041\n",
      "[19,  6000] loss: 1.022\n",
      "[19, 12000] loss: 1.031\n",
      "[20,  6000] loss: 1.016\n",
      "[20, 12000] loss: 1.012\n",
      "[21,  6000] loss: 0.987\n",
      "[21, 12000] loss: 0.999\n",
      "[22,  6000] loss: 0.976\n",
      "[22, 12000] loss: 0.983\n",
      "[23,  6000] loss: 0.964\n",
      "[23, 12000] loss: 0.969\n",
      "[24,  6000] loss: 0.950\n",
      "[24, 12000] loss: 0.952\n",
      "[25,  6000] loss: 0.930\n",
      "[25, 12000] loss: 0.942\n"
     ]
    }
   ],
   "source": [
    "#loss function\n",
    "criterion = nn.CrossEntropyLoss()\n",
    "\n",
    "#optimizer\n",
    "optimizer = optim.Adam(net.parameters(), lr=0.00001)\n",
    "#optimizer = optim.SGD(net.parameters(), lr=0.0001, momentum=0.9)\n",
    "\n",
    "for epoch in range(25): # loop over the dataset multiple times\n",
    "    running_loss = 0.0\n",
    "\n",
    "    for i, data in enumerate(trainloader, 0):\n",
    "        # get the inputs\n",
    "        inputs, labels = data\n",
    "\n",
    "        # zero the parameter gradients\n",
    "        optimizer.zero_grad()\n",
    "\n",
    "        # forward + backward + optimize\n",
    "        outputs = net(inputs)\n",
    "        loss = criterion(outputs, labels)\n",
    "        loss.backward()\n",
    "        optimizer.step()\n",
    "\n",
    "        # print statistics\n",
    "        running_loss += loss.item()\n",
    "        if i % 6000 == 5999:    # print every 6000 mini-batches\n",
    "            print('[%d, %5d] loss: %.3f' %\n",
    "                  (epoch + 1, i + 1, running_loss / 6000))\n",
    "            running_loss = 0.0\n",
    "    \n",
    "\n",
    "        \n",
    "#predict on the test data\n",
    "#save the predictions to ans2-uni.py"
   ]
  },
  {
   "cell_type": "code",
   "execution_count": 29,
   "metadata": {
    "colab": {
     "base_uri": "https://localhost:8080/",
     "height": 34
    },
    "colab_type": "code",
    "id": "YMc0ehJvcLOK",
    "outputId": "b9a51a27-f5d1-4086-be3f-a147067ff6f7"
   },
   "outputs": [
    {
     "name": "stdout",
     "output_type": "stream",
     "text": [
      "Accuracy of the network on the 10000 test images: 62 %\n"
     ]
    }
   ],
   "source": [
    "correct = 0\n",
    "total = 0\n",
    "with torch.no_grad():\n",
    "    for data in testloader:\n",
    "        images, labels = data\n",
    "        outputs = net(images)\n",
    "        _, predicted = torch.max(outputs.data, 1)\n",
    "        total += labels.size(0)\n",
    "        correct += (predicted == labels).sum().item()\n",
    "\n",
    "print('Accuracy of the network on the 10000 test images: %d %%' % (\n",
    "    100 * correct / total))"
   ]
  },
  {
   "cell_type": "code",
   "execution_count": null,
   "metadata": {
    "colab": {
     "base_uri": "https://localhost:8080/",
     "height": 187
    },
    "colab_type": "code",
    "id": "vA2rY6bNcLOP",
    "outputId": "5863e8a6-cad6-4758-8837-7ad9f042d95c"
   },
   "outputs": [],
   "source": [
    "predictions = np.concatenate( preds, axis=0 )"
   ]
  },
  {
   "cell_type": "code",
   "execution_count": 1,
   "metadata": {
    "colab": {},
    "colab_type": "code",
    "id": "yYFxJoHRcLOV"
   },
   "outputs": [
    {
     "name": "stdout",
     "output_type": "stream",
     "text": [
      "100\n"
     ]
    }
   ],
   "source": [
    "len(predictions)"
   ]
  },
  {
   "cell_type": "code",
   "execution_count": null,
   "metadata": {},
   "outputs": [],
   "source": [
    "np.savetxt('CNN_predictions.npy', predictions)"
   ]
  },
  {
   "cell_type": "code",
   "execution_count": null,
   "metadata": {},
   "outputs": [],
   "source": [
    "from google.colab import files\n",
    "files.download(\"CNN_predictions.npy\")"
   ]
  },
  {
   "cell_type": "markdown",
   "metadata": {},
   "source": [
    "Hyper-parameter tuning began with changing the optimization function. Adam Optimizer was used to check the result on accuracy. Other than this, neurons were increased upto 200 in one layer but this only turned the training slow without having a substantial impact on the error rate. Various settings of learning rate and momentum were used and then we decided on one which was giving the maximum accuracy score. Finally, a dropout regularization function was used to avoid overfitting and it yielded better results as accuracy went up to mid 60s. The accuracy also tended to improve when we were training the network for more than 25 epochs. "
   ]
  }
 ],
 "metadata": {
  "accelerator": "GPU",
  "colab": {
   "collapsed_sections": [],
   "name": "CNN.ipynb",
   "provenance": [],
   "version": "0.3.2"
  },
  "kernelspec": {
   "display_name": "Python 3",
   "language": "python",
   "name": "python3"
  },
  "language_info": {
   "codemirror_mode": {
    "name": "ipython",
    "version": 3
   },
   "file_extension": ".py",
   "mimetype": "text/x-python",
   "name": "python",
   "nbconvert_exporter": "python",
   "pygments_lexer": "ipython3",
   "version": "3.6.4"
  }
 },
 "nbformat": 4,
 "nbformat_minor": 1
}
